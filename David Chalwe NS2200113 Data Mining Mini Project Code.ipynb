{
 "cells": [
  {
   "cell_type": "code",
   "execution_count": 1,
   "id": "835538ba-cc6a-43ec-b5dc-29eccee0348f",
   "metadata": {},
   "outputs": [],
   "source": [
    "#kindly note the code was done of of my local Jupyter notbook instance  and as such I was unable to share the link. I have however attached the notebook itself with all code and instructions\n",
    "\n",
    "# Show all Jupyter cell outputs, NOT just the last cell's output\n",
    "from IPython.core.interactiveshell import InteractiveShell\n",
    "InteractiveShell.ast_node_interactivity = \"all\"\n",
    "\n",
    "\n",
    "import pandas as pd\n",
    "import requests, json \n",
    "from bs4 import BeautifulSoup as soup"
   ]
  },
  {
   "cell_type": "code",
   "execution_count": 2,
   "id": "8e70e514-9aa6-466d-a303-d83120216574",
   "metadata": {},
   "outputs": [],
   "source": [
    "data = pd.read_excel('ZNBC_X.xlsx')"
   ]
  },
  {
   "cell_type": "code",
   "execution_count": 3,
   "id": "aec774df-eeb4-4dff-8768-ff3543e0756c",
   "metadata": {},
   "outputs": [
    {
     "data": {
      "text/plain": [
       "Index(['Title', 'Class'], dtype='object')"
      ]
     },
     "execution_count": 3,
     "metadata": {},
     "output_type": "execute_result"
    },
    {
     "data": {
      "text/html": [
       "<div>\n",
       "<style scoped>\n",
       "    .dataframe tbody tr th:only-of-type {\n",
       "        vertical-align: middle;\n",
       "    }\n",
       "\n",
       "    .dataframe tbody tr th {\n",
       "        vertical-align: top;\n",
       "    }\n",
       "\n",
       "    .dataframe thead th {\n",
       "        text-align: right;\n",
       "    }\n",
       "</style>\n",
       "<table border=\"1\" class=\"dataframe\">\n",
       "  <thead>\n",
       "    <tr style=\"text-align: right;\">\n",
       "      <th></th>\n",
       "      <th>Title</th>\n",
       "      <th>Class</th>\n",
       "    </tr>\n",
       "  </thead>\n",
       "  <tbody>\n",
       "    <tr>\n",
       "      <th>3173</th>\n",
       "      <td>SHEPOLOPOLO TOKYO BOUND</td>\n",
       "      <td>Default</td>\n",
       "    </tr>\n",
       "    <tr>\n",
       "      <th>1941</th>\n",
       "      <td>ZESCO CUTS LOADSHEDDING</td>\n",
       "      <td>Default</td>\n",
       "    </tr>\n",
       "    <tr>\n",
       "      <th>529</th>\n",
       "      <td>MINES TO BE AUDITED ON ENVIRONMENTAL FUND</td>\n",
       "      <td>Politics</td>\n",
       "    </tr>\n",
       "  </tbody>\n",
       "</table>\n",
       "</div>"
      ],
      "text/plain": [
       "                                          Title     Class\n",
       "3173                    SHEPOLOPOLO TOKYO BOUND   Default\n",
       "1941                    ZESCO CUTS LOADSHEDDING   Default\n",
       "529   MINES TO BE AUDITED ON ENVIRONMENTAL FUND  Politics"
      ]
     },
     "execution_count": 3,
     "metadata": {},
     "output_type": "execute_result"
    }
   ],
   "source": [
    "#inspect the dataframe\n",
    "data.columns\n",
    "data.sample(3)"
   ]
  },
  {
   "cell_type": "code",
   "execution_count": 4,
   "id": "1d5c52f7-2ea4-4346-9759-cd73d6a7221c",
   "metadata": {},
   "outputs": [],
   "source": [
    "# Show all Jupyter cell outputs, NOT just the last cell's output\n",
    "from IPython.core.interactiveshell import InteractiveShell\n",
    "InteractiveShell.ast_node_interactivity = \"all\"\n",
    "\n",
    "import matplotlib.pyplot as plt\n",
    "import seaborn as sns\n",
    "\n",
    "import pandas as pd\n",
    "import re\n",
    "import string\n",
    "from random import randint\n",
    "\n",
    "from nltk.stem.porter import PorterStemmer\n",
    "from nltk.corpus import stopwords\n",
    "from collections import Counter\n",
    "\n",
    "from sklearn.svm import SVC, LinearSVC\n",
    "from sklearn.linear_model import LogisticRegression\n",
    "from sklearn.preprocessing import LabelEncoder\n",
    "from sklearn.model_selection import train_test_split, cross_val_score\n",
    "from sklearn.feature_extraction.text import TfidfVectorizer, CountVectorizer\n",
    "from sklearn.metrics import confusion_matrix,classification_report\n",
    "from sklearn.linear_model import LogisticRegression\n",
    "from sklearn.metrics import confusion_matrix, classification_report,accuracy_score, recall_score, precision_score,f1_score"
   ]
  },
  {
   "cell_type": "code",
   "execution_count": 5,
   "id": "70476844-bd81-4425-9ea7-c5fa90ec065a",
   "metadata": {},
   "outputs": [],
   "source": [
    "posts = pd.read_excel('ZNBC_X.xlsx')"
   ]
  },
  {
   "cell_type": "code",
   "execution_count": 6,
   "id": "86df98a1-173d-40e6-ad93-67ca9aff322c",
   "metadata": {},
   "outputs": [],
   "source": [
    "posts['Xs'] =  posts.Title #create new column 'Xs'\n",
    "posts['Y'] = LabelEncoder().fit(posts.Class.unique()).transform(posts.Class) #label encode\n",
    "\n",
    "posts = posts[['Xs','Y','Class']] # Drop 'title' and 'views'"
   ]
  },
  {
   "cell_type": "code",
   "execution_count": 7,
   "id": "ed40ad20-dbf4-4010-9f7b-234022752df8",
   "metadata": {},
   "outputs": [
    {
     "data": {
      "text/plain": [
       "Index(['Xs', 'Y', 'Class'], dtype='object')"
      ]
     },
     "execution_count": 7,
     "metadata": {},
     "output_type": "execute_result"
    },
    {
     "data": {
      "text/html": [
       "<div>\n",
       "<style scoped>\n",
       "    .dataframe tbody tr th:only-of-type {\n",
       "        vertical-align: middle;\n",
       "    }\n",
       "\n",
       "    .dataframe tbody tr th {\n",
       "        vertical-align: top;\n",
       "    }\n",
       "\n",
       "    .dataframe thead th {\n",
       "        text-align: right;\n",
       "    }\n",
       "</style>\n",
       "<table border=\"1\" class=\"dataframe\">\n",
       "  <thead>\n",
       "    <tr style=\"text-align: right;\">\n",
       "      <th></th>\n",
       "      <th>Xs</th>\n",
       "      <th>Y</th>\n",
       "      <th>Class</th>\n",
       "    </tr>\n",
       "  </thead>\n",
       "  <tbody>\n",
       "    <tr>\n",
       "      <th>832</th>\n",
       "      <td>HH's TWO MONTHS IN OFFICE</td>\n",
       "      <td>4</td>\n",
       "      <td>Politics</td>\n",
       "    </tr>\n",
       "    <tr>\n",
       "      <th>2870</th>\n",
       "      <td>FIFA TASKS FAZ TO RESOLVE WRANGLES</td>\n",
       "      <td>0</td>\n",
       "      <td>Default</td>\n",
       "    </tr>\n",
       "    <tr>\n",
       "      <th>2968</th>\n",
       "      <td>NEW MAIZE PRICE NODDED</td>\n",
       "      <td>0</td>\n",
       "      <td>Default</td>\n",
       "    </tr>\n",
       "    <tr>\n",
       "      <th>2400</th>\n",
       "      <td>ECZ ANNOUNCES 2021 GENERAL ELECTION ROADMAP</td>\n",
       "      <td>0</td>\n",
       "      <td>Default</td>\n",
       "    </tr>\n",
       "    <tr>\n",
       "      <th>2940</th>\n",
       "      <td>COVID-19: ZAMBIAN COLLEGES OPEN JUNE 29, 2020</td>\n",
       "      <td>4</td>\n",
       "      <td>Politics</td>\n",
       "    </tr>\n",
       "  </tbody>\n",
       "</table>\n",
       "</div>"
      ],
      "text/plain": [
       "                                                 Xs  Y     Class\n",
       "832                       HH's TWO MONTHS IN OFFICE  4  Politics\n",
       "2870             FIFA TASKS FAZ TO RESOLVE WRANGLES  0   Default\n",
       "2968                         NEW MAIZE PRICE NODDED  0   Default\n",
       "2400    ECZ ANNOUNCES 2021 GENERAL ELECTION ROADMAP  0   Default\n",
       "2940  COVID-19: ZAMBIAN COLLEGES OPEN JUNE 29, 2020  4  Politics"
      ]
     },
     "execution_count": 7,
     "metadata": {},
     "output_type": "execute_result"
    }
   ],
   "source": [
    "#inspect the dataframe\n",
    "posts.columns\n",
    "posts.sample(5)"
   ]
  },
  {
   "cell_type": "code",
   "execution_count": 8,
   "id": "d9202475-505d-44e9-bc01-258000469395",
   "metadata": {},
   "outputs": [
    {
     "name": "stdout",
     "output_type": "stream",
     "text": [
      "There are a total of 3232 posts\n"
     ]
    },
    {
     "data": {
      "text/plain": [
       "'SIKOTA WINA DIES'"
      ]
     },
     "execution_count": 8,
     "metadata": {},
     "output_type": "execute_result"
    },
    {
     "data": {
      "text/plain": [
       "3232"
      ]
     },
     "execution_count": 8,
     "metadata": {},
     "output_type": "execute_result"
    }
   ],
   "source": [
    "post_content = posts.Xs\n",
    "print('There are a total of {} posts'.format(len(post_content)))\n",
    "\n",
    "index = randint(0,20)  #only inspect posts from the first 20 in the list\n",
    "post_content[index]\n",
    "len(post_content)"
   ]
  },
  {
   "cell_type": "code",
   "execution_count": 9,
   "id": "2890fec3-d6aa-484b-8839-7b20e15b2c4d",
   "metadata": {},
   "outputs": [
    {
     "data": {
      "text/plain": [
       "Class\n",
       "Default      1977\n",
       "Education      93\n",
       "Health         96\n",
       "Local         320\n",
       "Politics      712\n",
       "Sports         31\n",
       "Name: Class, dtype: int64"
      ]
     },
     "execution_count": 9,
     "metadata": {},
     "output_type": "execute_result"
    },
    {
     "data": {
      "text/plain": [
       "<matplotlib.axes._subplots.AxesSubplot at 0x1e60e238cc0>"
      ]
     },
     "execution_count": 9,
     "metadata": {},
     "output_type": "execute_result"
    },
    {
     "data": {
      "image/png": "[encoded data removed]",
      "text/plain": [
       "<Figure size 432x288 with 1 Axes>"
      ]
     },
     "metadata": {
      "needs_background": "light"
     },
     "output_type": "display_data"
    }
   ],
   "source": [
    "#inspecting the distribution of comments\n",
    "posts.groupby('Class').Class.count()\n",
    "posts.groupby('Class').Class.count().plot.barh()"
   ]
  },
  {
   "cell_type": "code",
   "execution_count": 10,
   "id": "7a64ec0b-a06f-4835-8cb0-f312c7fd798b",
   "metadata": {},
   "outputs": [],
   "source": [
    "# 2. Case Folding\n",
    "# Good idea to implement a function here [...]\n",
    "\n",
    "def func_post_case_folding(contentText):\n",
    "    return convertToString(contentText)\n",
    "    \n",
    "    \n",
    "def convertToString(term):\n",
    "  if type(term) is str:\n",
    "    return term\n",
    "  else:\n",
    "    return str(term)\n",
    "\n",
    "# 3. Punctuation\n",
    "# Function for removing punctuations from string of text\n",
    "def func_post_punctuation(contentText):\n",
    "    \n",
    "    #replace special charactors with ' '\n",
    "    contentText_out = re.sub('[^\\w\\s]', ' ',contentText)\n",
    "    contentText_out = re.sub('_', '',contentText_out)\n",
    "    \n",
    "    #change any whitespace to one space\n",
    "    contentText_out = re.sub('\\s+', ' ',contentText_out)\n",
    "    \n",
    "    #remove start and end whitespaces\n",
    "    contentText_out = contentText_out.strip()\n",
    "    \n",
    "    contentText_out = re.sub('\\w*\\d\\w*', '', contentText_out) # replace digits\n",
    "    return contentText_out\n",
    "\n",
    "# 4. Stopwords\n",
    "# Function for removing stopwords from string of text\n",
    "def func_post_stopwords(contentText_in):\n",
    "    \n",
    "    contentText_out = \" \".join([\n",
    "        contentText_word for contentText_word in contentText_in.split() \n",
    "        if contentText_word not in stopwords.words('english')\n",
    "    ])\n",
    "    return contentText_out\n",
    "\n",
    "# 5. Stemming\n",
    "# Function for removing stopwords from string of text\n",
    "# Remember: input will be chunck of text\n",
    "def func_post_stem(contentText):\n",
    "    var_stemmer = PorterStemmer()\n",
    "    contentText_out = \" \".join([\n",
    "        var_stemmer.stem(contentText_word) for contentText_word in contentText.split() \n",
    "    ])\n",
    "    return contentText_out\n",
    "\n",
    "# 6. form the corpus\n",
    "\n",
    "def func_get_all_words(content_list):\n",
    "    all_words = []\n",
    "    for item in content_list:\n",
    "        var_word = convertToString(item)\n",
    "        for n in var_word.split():\n",
    "            all_words.append(n)\n",
    "    return all_words\n",
    "        \n",
    "\n",
    "# 7. Term Frequency \n",
    "\n",
    "def func_tf_transform(all_words_list,clean_content_list):\n",
    "    var_transformed_dataset = []\n",
    "    for item in clean_content_list:\n",
    "        #print (var_etd_entry)\n",
    "        var_dataset = []\n",
    "        var_tokens = item.split()\n",
    "        for x in all_words_list:\n",
    "            #print (var_dictionary_entry)\n",
    "            var_dataset.append(var_tokens.count(x[0]))\n",
    "        var_transformed_dataset.append(var_dataset)\n",
    "    return var_transformed_dataset\n",
    "\n",
    "\n",
    "# function for functions to carry out step 2 to 5\n",
    "# Function for removing stopwords from string of text\n",
    "\n",
    "def func_clean_posts(content_list):\n",
    "    \n",
    "    temp_list = []\n",
    "    for item in content_list:\n",
    "        itemOut = func_post_case_folding(item)\n",
    "        itemOut = func_post_punctuation(itemOut)\n",
    "        itemOut = func_post_stopwords(itemOut)\n",
    "        itemOut = func_post_stem(itemOut)\n",
    "        \n",
    "        temp_list.append(itemOut)\n",
    "        \n",
    "    return temp_list"
   ]
  },
  {
   "cell_type": "code",
   "execution_count": 11,
   "id": "ad78cebd-d9f6-4754-8e8e-2b75667607ba",
   "metadata": {},
   "outputs": [],
   "source": [
    "post_content.dropna(inplace= True)\n",
    "post_content_list = list(post_content)"
   ]
  },
  {
   "cell_type": "code",
   "execution_count": 12,
   "id": "0a23f2be-4d34-4a58-bedb-884c2237bf64",
   "metadata": {},
   "outputs": [],
   "source": [
    "#clean the content list\n",
    "clean_post_content_list = func_clean_posts(post_content_list)"
   ]
  },
  {
   "cell_type": "code",
   "execution_count": 84,
   "id": "4ddcb795-2fd5-4524-a2c3-6fa680f500f4",
   "metadata": {},
   "outputs": [
    {
     "data": {
      "text/plain": [
       "'SIKOTA WINA DIES'"
      ]
     },
     "execution_count": 84,
     "metadata": {},
     "output_type": "execute_result"
    }
   ],
   "source": [
    "clean_post_content_list[index]"
   ]
  },
  {
   "cell_type": "code",
   "execution_count": 14,
   "id": "85b5db8a-971d-410b-bb24-b1688c89ed13",
   "metadata": {},
   "outputs": [
    {
     "data": {
      "text/plain": [
       "3229"
      ]
     },
     "execution_count": 14,
     "metadata": {},
     "output_type": "execute_result"
    },
    {
     "data": {
      "text/plain": [
       "3229"
      ]
     },
     "execution_count": 14,
     "metadata": {},
     "output_type": "execute_result"
    }
   ],
   "source": [
    "len(post_content)\n",
    "len(clean_post_content_list)"
   ]
  },
  {
   "cell_type": "code",
   "execution_count": 35,
   "id": "2a5e34f8-269e-49ee-9eee-7dacaf840b91",
   "metadata": {},
   "outputs": [],
   "source": [
    "cleanPosts = posts\n",
    "cleanPosts.Xs = posts.Xs\n",
    "cleanPosts.to_excel('cleanPosts.xlsx')"
   ]
  },
  {
   "cell_type": "code",
   "execution_count": 52,
   "id": "7763833b-d8e1-4673-9fcd-aab53e339aa6",
   "metadata": {},
   "outputs": [],
   "source": [
    "cleanPosts = pd.read_excel('cleanPosts.xlsx')\n",
    "clean_post_content_list = list(cleanPosts.Xs)"
   ]
  },
  {
   "cell_type": "code",
   "execution_count": 80,
   "id": "1e690fcc-857b-4782-a255-1f157bf0ae26",
   "metadata": {},
   "outputs": [
    {
     "data": {
      "text/html": [
       "<div>\n",
       "<style scoped>\n",
       "    .dataframe tbody tr th:only-of-type {\n",
       "        vertical-align: middle;\n",
       "    }\n",
       "\n",
       "    .dataframe tbody tr th {\n",
       "        vertical-align: top;\n",
       "    }\n",
       "\n",
       "    .dataframe thead th {\n",
       "        text-align: right;\n",
       "    }\n",
       "</style>\n",
       "<table border=\"1\" class=\"dataframe\">\n",
       "  <thead>\n",
       "    <tr style=\"text-align: right;\">\n",
       "      <th></th>\n",
       "      <th>Unnamed: 0</th>\n",
       "      <th>Xs</th>\n",
       "      <th>Y</th>\n",
       "      <th>Class</th>\n",
       "    </tr>\n",
       "  </thead>\n",
       "  <tbody>\n",
       "    <tr>\n",
       "      <th>2660</th>\n",
       "      <td>2660</td>\n",
       "      <td>CHONGWE WOMEN APPEAL FOR LAND</td>\n",
       "      <td>0</td>\n",
       "      <td>Default</td>\n",
       "    </tr>\n",
       "    <tr>\n",
       "      <th>1637</th>\n",
       "      <td>1637</td>\n",
       "      <td>TRANSPORTERS ON VACCINE</td>\n",
       "      <td>0</td>\n",
       "      <td>Default</td>\n",
       "    </tr>\n",
       "    <tr>\n",
       "      <th>1421</th>\n",
       "      <td>1421</td>\n",
       "      <td>PRESIDENT LUNGU WISHES KK WELL</td>\n",
       "      <td>4</td>\n",
       "      <td>Politics</td>\n",
       "    </tr>\n",
       "    <tr>\n",
       "      <th>1009</th>\n",
       "      <td>1009</td>\n",
       "      <td>UTH  IN CUSTODY OF UNIDENTIFIED TWO PATIENT</td>\n",
       "      <td>2</td>\n",
       "      <td>Health</td>\n",
       "    </tr>\n",
       "    <tr>\n",
       "      <th>1250</th>\n",
       "      <td>1250</td>\n",
       "      <td>SP HEADMEN BACK LUNGU</td>\n",
       "      <td>4</td>\n",
       "      <td>Politics</td>\n",
       "    </tr>\n",
       "  </tbody>\n",
       "</table>\n",
       "</div>"
      ],
      "text/plain": [
       "      Unnamed: 0                                           Xs  Y     Class\n",
       "2660        2660                CHONGWE WOMEN APPEAL FOR LAND  0   Default\n",
       "1637        1637                      TRANSPORTERS ON VACCINE  0   Default\n",
       "1421        1421               PRESIDENT LUNGU WISHES KK WELL  4  Politics\n",
       "1009        1009  UTH  IN CUSTODY OF UNIDENTIFIED TWO PATIENT  2    Health\n",
       "1250        1250                        SP HEADMEN BACK LUNGU  4  Politics"
      ]
     },
     "execution_count": 80,
     "metadata": {},
     "output_type": "execute_result"
    }
   ],
   "source": [
    "cleanPosts.sample(5)"
   ]
  },
  {
   "cell_type": "code",
   "execution_count": 72,
   "id": "4e3aba68-ca6d-455e-9c40-b159e2924196",
   "metadata": {},
   "outputs": [
    {
     "data": {
      "text/plain": [
       "[('TO', 449),\n",
       " ('IN', 243),\n",
       " ('FOR', 237),\n",
       " ('ECL', 181),\n",
       " ('ON', 171),\n",
       " ('OF', 164),\n",
       " ('GOVT', 163),\n",
       " ('COVID-19:', 147),\n",
       " ('ZAMBIA', 135),\n",
       " ('COVID', 132)]"
      ]
     },
     "execution_count": 72,
     "metadata": {},
     "output_type": "execute_result"
    }
   ],
   "source": [
    "Counter(func_get_all_words(clean_post_content_list)).most_common(10)"
   ]
  },
  {
   "cell_type": "code",
   "execution_count": 55,
   "id": "781ab621-76b4-44d3-91ee-be06efe2b1ca",
   "metadata": {},
   "outputs": [
    {
     "data": {
      "text/html": [
       "<div>\n",
       "<style scoped>\n",
       "    .dataframe tbody tr th:only-of-type {\n",
       "        vertical-align: middle;\n",
       "    }\n",
       "\n",
       "    .dataframe tbody tr th {\n",
       "        vertical-align: top;\n",
       "    }\n",
       "\n",
       "    .dataframe thead th {\n",
       "        text-align: right;\n",
       "    }\n",
       "</style>\n",
       "<table border=\"1\" class=\"dataframe\">\n",
       "  <thead>\n",
       "    <tr style=\"text-align: right;\">\n",
       "      <th></th>\n",
       "      <th>Class</th>\n",
       "      <th>Y</th>\n",
       "    </tr>\n",
       "  </thead>\n",
       "  <tbody>\n",
       "    <tr>\n",
       "      <th>0</th>\n",
       "      <td>Default</td>\n",
       "      <td>0</td>\n",
       "    </tr>\n",
       "    <tr>\n",
       "      <th>1</th>\n",
       "      <td>Education</td>\n",
       "      <td>1</td>\n",
       "    </tr>\n",
       "    <tr>\n",
       "      <th>2</th>\n",
       "      <td>Health</td>\n",
       "      <td>2</td>\n",
       "    </tr>\n",
       "    <tr>\n",
       "      <th>3</th>\n",
       "      <td>Local</td>\n",
       "      <td>3</td>\n",
       "    </tr>\n",
       "    <tr>\n",
       "      <th>4</th>\n",
       "      <td>Politics</td>\n",
       "      <td>4</td>\n",
       "    </tr>\n",
       "    <tr>\n",
       "      <th>5</th>\n",
       "      <td>Sports</td>\n",
       "      <td>5</td>\n",
       "    </tr>\n",
       "  </tbody>\n",
       "</table>\n",
       "</div>"
      ],
      "text/plain": [
       "       Class  Y\n",
       "0    Default  0\n",
       "1  Education  1\n",
       "2     Health  2\n",
       "3      Local  3\n",
       "4   Politics  4\n",
       "5     Sports  5"
      ]
     },
     "execution_count": 55,
     "metadata": {},
     "output_type": "execute_result"
    }
   ],
   "source": [
    "Label_class_df = cleanPosts[['Class', 'Y']].drop_duplicates().sort_values('Y').reset_index().drop(columns='index')\n",
    "Label_class_df"
   ]
  },
  {
   "cell_type": "code",
   "execution_count": 56,
   "id": "b33681d3-b24f-4234-8dc3-4811829f9b7a",
   "metadata": {},
   "outputs": [
    {
     "data": {
      "text/plain": [
       "TfidfVectorizer()"
      ]
     },
     "execution_count": 56,
     "metadata": {},
     "output_type": "execute_result"
    }
   ],
   "source": [
    "vectorizer = CountVectorizer()\n",
    "vectorizer = TfidfVectorizer()\n",
    "vectorizer.fit(post_content_list)"
   ]
  },
  {
   "cell_type": "code",
   "execution_count": 57,
   "id": "fcfd4c73-9094-49df-bdc0-41afb94fab28",
   "metadata": {},
   "outputs": [],
   "source": [
    "features = vectorizer.transform(post_content_list)\n",
    "features_columns = vectorizer.get_feature_names_out()"
   ]
  },
  {
   "cell_type": "code",
   "execution_count": 58,
   "id": "85879bb5-26ae-48c2-a5e8-05a5e7c491f7",
   "metadata": {},
   "outputs": [
    {
     "data": {
      "text/plain": [
       "(3229, 4311)"
      ]
     },
     "execution_count": 58,
     "metadata": {},
     "output_type": "execute_result"
    }
   ],
   "source": [
    "features_df = pd.DataFrame(features.toarray(), columns = features_columns)\n",
    "features_df.shape"
   ]
  },
  {
   "cell_type": "code",
   "execution_count": 59,
   "id": "9f120645-968f-4a43-9c27-4f0d32c57847",
   "metadata": {},
   "outputs": [
    {
     "data": {
      "text/plain": [
       "2583"
      ]
     },
     "execution_count": 59,
     "metadata": {},
     "output_type": "execute_result"
    },
    {
     "data": {
      "text/plain": [
       "646"
      ]
     },
     "execution_count": 59,
     "metadata": {},
     "output_type": "execute_result"
    }
   ],
   "source": [
    "x_train, x_test, y_train, y_test = train_test_split(features_df , cleanPosts['Y'], test_size=0.20)\n",
    "len(x_train)\n",
    "len(x_test)"
   ]
  },
  {
   "cell_type": "code",
   "execution_count": 89,
   "id": "650980bf-1bbd-4bc9-ab4b-a9be5256fe9c",
   "metadata": {},
   "outputs": [
    {
     "data": {
      "text/plain": [
       "LinearSVC()"
      ]
     },
     "execution_count": 89,
     "metadata": {},
     "output_type": "execute_result"
    }
   ],
   "source": [
    "# Performing CV to tune parameters for best SVM fit\n",
    "model = LinearSVC()\n",
    "# model = LogisticRegression(multi_class= 'auto')\n",
    "model.fit(x_train, y_train)"
   ]
  },
  {
   "cell_type": "code",
   "execution_count": 90,
   "id": "088dc3ae-2519-4ddb-aa2f-484f16c023f5",
   "metadata": {},
   "outputs": [
    {
     "data": {
      "text/plain": [
       "0.9613003095975232"
      ]
     },
     "execution_count": 90,
     "metadata": {},
     "output_type": "execute_result"
    }
   ],
   "source": [
    "model.score(x_test, y_test)\n",
    "y_pred = model.predict(x_test)"
   ]
  },
  {
   "cell_type": "code",
   "execution_count": 83,
   "id": "46c60788-e9a4-48b0-a20a-e65a040f43e4",
   "metadata": {},
   "outputs": [
    {
     "data": {
      "text/plain": [
       "<matplotlib.axes._subplots.AxesSubplot at 0x1e611c1fef0>"
      ]
     },
     "execution_count": 83,
     "metadata": {},
     "output_type": "execute_result"
    },
    {
     "data": {
      "text/plain": [
       "Text(33.0, 0.5, 'Actual')"
      ]
     },
     "execution_count": 83,
     "metadata": {},
     "output_type": "execute_result"
    },
    {
     "data": {
      "text/plain": [
       "Text(0.5, 15.0, 'Predicted')"
      ]
     },
     "execution_count": 83,
     "metadata": {},
     "output_type": "execute_result"
    },
    {
     "data": {
      "image/png": "[encoded data removed]",
      "text/plain": [
       "<Figure size 432x288 with 2 Axes>"
      ]
     },
     "metadata": {
      "needs_background": "light"
     },
     "output_type": "display_data"
    }
   ],
   "source": [
    "# creating the confusion matrix\n",
    "\n",
    "conf_mat = confusion_matrix(y_test, y_pred)\n",
    "sns.heatmap(conf_mat, annot=True, fmt='d',\n",
    "            xticklabels=Label_class_df.Class.values, yticklabels=Label_class_df.Class.values)\n",
    "plt.ylabel('Actual')\n",
    "plt.xlabel('Predicted')"
   ]
  },
  {
   "cell_type": "code",
   "execution_count": 63,
   "id": "e13d1111-8aa4-410a-bf92-7e1c229119a5",
   "metadata": {},
   "outputs": [
    {
     "name": "stdout",
     "output_type": "stream",
     "text": [
      "              precision    recall  f1-score   support\n",
      "\n",
      "     Default       0.95      1.00      0.97       407\n",
      "   Education       0.88      0.64      0.74        11\n",
      "      Health       1.00      0.75      0.86        16\n",
      "       Local       0.98      0.98      0.98        61\n",
      "    Politics       1.00      0.92      0.96       144\n",
      "      Sports       1.00      0.43      0.60         7\n",
      "\n",
      "    accuracy                           0.96       646\n",
      "   macro avg       0.97      0.79      0.85       646\n",
      "weighted avg       0.96      0.96      0.96       646\n",
      "\n"
     ]
    }
   ],
   "source": [
    "print(classification_report(y_test, y_pred,target_names= Label_class_df.Class.values ))"
   ]
  },
  {
   "cell_type": "code",
   "execution_count": 64,
   "id": "b5d5d3fe-9b02-4f5c-9b96-ba95ca0e25ab",
   "metadata": {},
   "outputs": [
    {
     "name": "stdout",
     "output_type": "stream",
     "text": [
      "[0.93498452 0.94427245 0.99380805 0.95356037 0.94736842 0.94117647\n",
      " 0.97832817 0.9628483  0.9504644  0.9689441 ]\n"
     ]
    }
   ],
   "source": [
    "scores = cross_val_score(model,features_df, cleanPosts['Y'], cv=10, scoring='accuracy')\n",
    "print(scores)"
   ]
  },
  {
   "cell_type": "code",
   "execution_count": 65,
   "id": "2f8e5555-bfba-4b2e-88b2-830dd4ec7df8",
   "metadata": {},
   "outputs": [
    {
     "name": "stdout",
     "output_type": "stream",
     "text": [
      "The Cross-validation score is 0.9575755244889719\n"
     ]
    }
   ],
   "source": [
    "print('The Cross-validation score is {}'.format(scores.mean()))"
   ]
  },
  {
   "cell_type": "code",
   "execution_count": null,
   "id": "add48166-8939-4f36-bf90-fe60346e6be5",
   "metadata": {},
   "outputs": [],
   "source": []
  }
 ],
 "metadata": {
  "kernelspec": {
   "display_name": "Python 3 (ipykernel)",
   "language": "python",
   "name": "python3"
  },
  "language_info": {
   "codemirror_mode": {
    "name": "ipython",
    "version": 3
   },
   "file_extension": ".py",
   "mimetype": "text/x-python",
   "name": "python",
   "nbconvert_exporter": "python",
   "pygments_lexer": "ipython3",
   "version": "3.7.0"
  }
 },
 "nbformat": 4,
 "nbformat_minor": 5
}
